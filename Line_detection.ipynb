{
  "cells": [
    {
      "cell_type": "markdown",
      "id": "53fe125e",
      "metadata": {
        "id": "53fe125e"
      },
      "source": [
        "# Finding the slopes of the boundaries separated by regional patterns in N, P position graphs"
      ]
    },
    {
      "cell_type": "markdown",
      "id": "e04973ea",
      "metadata": {
        "id": "e04973ea"
      },
      "source": [
        "### We have a plot of Black and White coloured points representing the N and P positions corresponding to the particular parameter in various Subtraction games. What is observed is that these points form patterns based on their texture which are separated by boundary lines. Our goal is to detect these lines and study their properties (for e.g. slope)"
      ]
    },
    {
      "cell_type": "markdown",
      "source": [
        "## Load libraries"
      ],
      "metadata": {
        "id": "HxRgfvKh_4im"
      },
      "id": "HxRgfvKh_4im"
    },
    {
      "cell_type": "code",
      "execution_count": null,
      "id": "cd22ad6d",
      "metadata": {
        "id": "cd22ad6d"
      },
      "outputs": [],
      "source": [
        "import matplotlib.pyplot as plt\n",
        "from skimage import io\n",
        "import math, os\n",
        "import numpy as np\n",
        "from PIL import Image\n",
        "from skimage.filters import threshold_otsu\n",
        "import cv2 as cv\n",
        "from scipy import ndimage\n",
        "from skimage.filters.rank import entropy\n",
        "from skimage.morphology import disk"
      ]
    },
    {
      "cell_type": "markdown",
      "source": [
        "### Converts CV Image to PIL format for easy viewing"
      ],
      "metadata": {
        "id": "7ktx_E7fABZg"
      },
      "id": "7ktx_E7fABZg"
    },
    {
      "cell_type": "code",
      "execution_count": null,
      "id": "b4c2232b",
      "metadata": {
        "id": "b4c2232b"
      },
      "outputs": [],
      "source": [
        "def ch2pil(image):\n",
        "    color_coverted = cv.cvtColor(image, cv.COLOR_BGR2RGB)\n",
        "    pil_image = Image.fromarray(color_coverted)\n",
        "    pil_image.show()"
      ]
    },
    {
      "cell_type": "markdown",
      "source": [
        "### Variance Filter: Highlights edges in the image by replacing each pixel with the neighborhood variance.\n",
        "\n",
        "### Parameters:\n",
        "### n : no. of times the variance filter is applied (usually 1, but can go upto 2 or 3 depending on the complexity of the pattern and the no. of regions)\n",
        "### l : size of the variance filter\n"
      ],
      "metadata": {
        "id": "pbZO80bMAUHo"
      },
      "id": "pbZO80bMAUHo"
    },
    {
      "cell_type": "code",
      "execution_count": null,
      "id": "6c6c4afb",
      "metadata": {
        "id": "6c6c4afb"
      },
      "outputs": [],
      "source": [
        "def var(img, n, l):\n",
        "    for i in range(n):\n",
        "        img_mean = ndimage.uniform_filter(img, (l, l))\n",
        "        img_sqr_mean = ndimage.uniform_filter(img**2, (l, l))\n",
        "        img_var = img_sqr_mean - img_mean**2\n",
        "        img = img_var\n",
        "    plt.imshow(img, cmap='gray')\n",
        "    ch2pil(img)\n",
        "    return img"
      ]
    },
    {
      "cell_type": "markdown",
      "source": [
        "### Entropy filter: Entropy is a statistical measure of randomness that can be used to characterize the texture of the input image. This filter can segment portions of an image by their complexity.\n",
        "\n",
        "### Parameters:\n",
        "### k : no. of times entropy filter is applied (usually 1 or 2)"
      ],
      "metadata": {
        "id": "wev9Fw2aAif7"
      },
      "id": "wev9Fw2aAif7"
    },
    {
      "cell_type": "code",
      "execution_count": null,
      "id": "44d8993f",
      "metadata": {
        "id": "44d8993f"
      },
      "outputs": [],
      "source": [
        "def entro(img_var, k):\n",
        "    for i in range(k):\n",
        "        entropy_img = entropy(img_var, disk(5))\n",
        "        entropy_img = entropy_img.astype('uint8') * 255\n",
        "        img_var = entropy_img\n",
        "    plt.imshow(img_var)\n",
        "    ch2pil(img_var)\n",
        "    return img_var"
      ]
    },
    {
      "cell_type": "markdown",
      "source": [
        "### Houghline Detection: A popular technique for detecting straight lines and curves on gray- scale images. It maps image data from image space to a parameter space, where curve detection becomes peak detection problem."
      ],
      "metadata": {
        "id": "AAnnS22GAwB0"
      },
      "id": "AAnnS22GAwB0"
    },
    {
      "cell_type": "code",
      "execution_count": null,
      "id": "bcfbe05e",
      "metadata": {
        "id": "bcfbe05e"
      },
      "outputs": [],
      "source": [
        "def houglines(entropy_img):\n",
        "    image = entropy_img\n",
        "\n",
        "    edge_image = cv.GaussianBlur(image, (3, 3), 1)\n",
        "    edge_image = cv.Canny(edge_image, 100, 200)\n",
        "    edge_image = cv.dilate(\n",
        "            edge_image,\n",
        "            cv.getStructuringElement(cv.MORPH_RECT, (5, 5)),\n",
        "            iterations=1\n",
        "        )\n",
        "    edge_image = cv.erode(\n",
        "            edge_image,\n",
        "            cv.getStructuringElement(cv.MORPH_RECT, (5, 5)),\n",
        "            iterations=1\n",
        "        )\n",
        "    edges = cv.Canny(edge_image, 50, 150, apertureSize=3)\n",
        "    lines = cv.HoughLines(edges, 1, np.pi/180, 200)\n",
        "\n",
        "    slopes = []\n",
        "\n",
        "    for r_theta in lines:\n",
        "        arr = np.array(r_theta[0], dtype=np.float64)\n",
        "        r, theta = arr\n",
        "        # Stores the value of cos(theta) in a\n",
        "        a = np.cos(theta)\n",
        "\n",
        "        # Stores the value of sin(theta) in b\n",
        "        b = np.sin(theta)\n",
        "\n",
        "        # x0 stores the value rcos(theta)\n",
        "        x0 = a*r\n",
        "\n",
        "        # y0 stores the value rsin(theta)\n",
        "        y0 = b*r\n",
        "\n",
        "        # x1 stores the rounded off value of (rcos(theta)-1000sin(theta))\n",
        "        x1 = int(x0 + 1000*(-b))\n",
        "\n",
        "        # y1 stores the rounded off value of (rsin(theta)+1000cos(theta))\n",
        "        y1 = int(y0 + 1000*(a))\n",
        "\n",
        "        # x2 stores the rounded off value of (rcos(theta)+1000sin(theta))\n",
        "        x2 = int(x0 - 1000*(-b))\n",
        "\n",
        "        # y2 stores the rounded off value of (rsin(theta)-1000cos(theta))\n",
        "        y2 = int(y0 - 1000*(a))\n",
        "\n",
        "        if x1 != x2:\n",
        "            slope = abs((y2 - y1)/(x2 - x1))\n",
        "            if slope > 0.05 and slope < 15:\n",
        "                slopes.append(slope)\n",
        "#             elif slope > 15:\n",
        "#                 slopes.append('')\n",
        "#             else:\n",
        "#                 slopes.append(slope)\n",
        "#         else:\n",
        "#             slopes.append('')\n",
        "\n",
        "        # cv2.line draws a line in img from the point(x1,y1) to (x2,y2).\n",
        "        # (0,0,255) denotes the colour of the line to be\n",
        "        # drawn. In this case, it is red.\n",
        "        cv.line(edge_image, (x1, y1), (x2, y2), (255, 0, 0), 2)\n",
        "    ch2pil(edge_image)\n",
        "    plt.imshow(edge_image)\n",
        "    return slopes"
      ]
    },
    {
      "cell_type": "markdown",
      "source": [
        "### Load an image"
      ],
      "metadata": {
        "id": "hK52gVp-BQfG"
      },
      "id": "hK52gVp-BQfG"
    },
    {
      "cell_type": "code",
      "execution_count": null,
      "id": "2b236b96",
      "metadata": {
        "id": "2b236b96"
      },
      "outputs": [],
      "source": [
        "image = cv.imread('./166122.png', 0)\n",
        "ch2pil(image)"
      ]
    },
    {
      "cell_type": "markdown",
      "source": [
        "### Set parameters"
      ],
      "metadata": {
        "id": "ztY3kda4BV3P"
      },
      "id": "ztY3kda4BV3P"
    },
    {
      "cell_type": "code",
      "execution_count": null,
      "id": "45644668",
      "metadata": {
        "id": "45644668"
      },
      "outputs": [],
      "source": [
        "n = 1\n",
        "l = 5\n",
        "k = 1"
      ]
    },
    {
      "cell_type": "markdown",
      "source": [
        "### Operate the functions and see the outputs:"
      ],
      "metadata": {
        "id": "m7VQP2xyBbA1"
      },
      "id": "m7VQP2xyBbA1"
    },
    {
      "cell_type": "code",
      "execution_count": null,
      "id": "f692e3e2",
      "metadata": {
        "colab": {
          "base_uri": "https://localhost:8080/",
          "height": 453
        },
        "id": "f692e3e2",
        "outputId": "7857f739-c889-4510-ae10-1df8cc3619ee"
      },
      "outputs": [
        {
          "output_type": "execute_result",
          "data": {
            "text/plain": [
              "True"
            ]
          },
          "metadata": {},
          "execution_count": 13
        },
        {
          "output_type": "display_data",
          "data": {
            "text/plain": [
              "<Figure size 640x480 with 1 Axes>"
            ],
            "image/png": "[encoded data removed]"
          },
          "metadata": {}
        }
      ],
      "source": [
        "image2 = var(image, n, l)\n",
        "cv.imwrite('h2.png', image2)"
      ]
    },
    {
      "cell_type": "code",
      "execution_count": null,
      "id": "01631d57",
      "metadata": {
        "colab": {
          "base_uri": "https://localhost:8080/",
          "height": 453
        },
        "id": "01631d57",
        "outputId": "d87bd1f9-8103-42e3-a4a0-30e5095abec4"
      },
      "outputs": [
        {
          "output_type": "execute_result",
          "data": {
            "text/plain": [
              "True"
            ]
          },
          "metadata": {},
          "execution_count": 14
        },
        {
          "output_type": "display_data",
          "data": {
            "text/plain": [
              "<Figure size 640x480 with 1 Axes>"
            ],
            "image/png": "[encoded data removed]"
          },
          "metadata": {}
        }
      ],
      "source": [
        "image3 = entro(image2, k)\n",
        "cv.imwrite('h3.png', image3)"
      ]
    },
    {
      "cell_type": "code",
      "execution_count": null,
      "id": "dd320b58",
      "metadata": {
        "colab": {
          "base_uri": "https://localhost:8080/",
          "height": 667
        },
        "id": "dd320b58",
        "outputId": "38a2e42e-a74a-4012-95cc-07b74445adca"
      },
      "outputs": [
        {
          "output_type": "execute_result",
          "data": {
            "text/plain": [
              "[1.3758503401360545,\n",
              " 1.3770212765957446,\n",
              " 1.3770212765957446,\n",
              " 1.376700680272109,\n",
              " 1.3770212765957446,\n",
              " 0.7268232385661311,\n",
              " 0.7262051915945612,\n",
              " 0.7262051915945612,\n",
              " 0.7262051915945612,\n",
              " 0.7268232385661311,\n",
              " 0.7262051915945612,\n",
              " 1.3758503401360545,\n",
              " 0.7268232385661311]"
            ]
          },
          "metadata": {},
          "execution_count": 10
        },
        {
          "output_type": "display_data",
          "data": {
            "text/plain": [
              "<Figure size 640x480 with 1 Axes>"
            ],
            "image/png": "[encoded data removed]"
          },
          "metadata": {}
        }
      ],
      "source": [
        "houglines(image3)"
      ]
    },
    {
      "cell_type": "code",
      "source": [
        "cv.imwrite('h1.png', image3)"
      ],
      "metadata": {
        "colab": {
          "base_uri": "https://localhost:8080/"
        },
        "id": "eXkQhNUMFdAr",
        "outputId": "478aadb6-5d61-4d36-fb88-4c56fdf85df2"
      },
      "id": "eXkQhNUMFdAr",
      "execution_count": null,
      "outputs": [
        {
          "output_type": "execute_result",
          "data": {
            "text/plain": [
              "True"
            ]
          },
          "metadata": {},
          "execution_count": 11
        }
      ]
    },
    {
      "cell_type": "code",
      "execution_count": null,
      "id": "1858bd68",
      "metadata": {
        "id": "1858bd68"
      },
      "outputs": [],
      "source": [
        "# #Variance - not a great way to quantify texture\n",
        "# k=7\n",
        "# img_mean = ndimage.uniform_filter(img, (k, k))\n",
        "# img_sqr_mean = ndimage.uniform_filter(img**2, (k, k))\n",
        "# img_var = img_sqr_mean - img_mean**2\n",
        "# plt.imshow(img_var, cmap='gray')\n",
        "# ch2pil(img_var)"
      ]
    },
    {
      "cell_type": "code",
      "execution_count": null,
      "id": "e9934a01",
      "metadata": {
        "id": "e9934a01"
      },
      "outputs": [],
      "source": [
        "# k=7\n",
        "# img = img_var\n",
        "# img_mean = ndimage.uniform_filter(img, (k, k))\n",
        "# img_sqr_mean = ndimage.uniform_filter(img**2, (k, k))\n",
        "# img_var = img_sqr_mean - img_mean**2\n",
        "# plt.imshow(img_var, cmap='gray')\n",
        "# ch2pil(img_var)"
      ]
    },
    {
      "cell_type": "code",
      "execution_count": null,
      "id": "0674750f",
      "metadata": {
        "id": "0674750f"
      },
      "outputs": [],
      "source": [
        "# #Entropy\n",
        "# #Entropy quantifies disorder.\n",
        "# #Since cell region has high variation in pixel values the entropy would be\n",
        "# #higher compared to scratch region\n",
        "\n",
        "# entropy_img = entropy(img_var, disk(5))\n",
        "# entropy_img = entropy_img.astype('uint8') * 255\n",
        "# #entropy_img = np.asarray(entropy_img, dtype='float32')\n",
        "\n",
        "# #Image.fromarray((entropy_img * 1).astype(np.uint8)).convert('RGB')\n",
        "\n",
        "# plt.imshow(entropy_img)\n",
        "# ch2pil(entropy_img)\n",
        "\n",
        "# # cv.imshow(\"\", entropy_img)\n",
        "# # cv.waitKey(0)\n",
        "# # cv.destroyAllWindows()\n",
        "\n",
        "# # color_coverted = cv.cvtColor(entropy_img, cv.COLOR_BGR2RGB)\n",
        "# # pil_image = Image.fromarray(color_coverted)\n",
        "# # pil_image.show()"
      ]
    },
    {
      "cell_type": "code",
      "execution_count": null,
      "id": "d4c4d0f9",
      "metadata": {
        "id": "d4c4d0f9"
      },
      "outputs": [],
      "source": [
        "# from skimage.filters.rank import entropy\n",
        "# from skimage.morphology import disk\n",
        "\n",
        "# img_var = entropy_img\n",
        "# entropy_img = entropy(img_var, disk(5))\n",
        "# entropy_img = entropy_img.astype('uint8') * 255\n",
        "# #entropy_img = np.asarray(entropy_img, dtype='float32')\n",
        "\n",
        "# #Image.fromarray((entropy_img * 1).astype(np.uint8)).convert('RGB')\n",
        "\n",
        "# plt.imshow(entropy_img)\n",
        "\n",
        "# # cv.imshow(\"\", entropy_img)\n",
        "# # cv.waitKey(0)\n",
        "# # cv.destroyAllWindows()"
      ]
    },
    {
      "cell_type": "code",
      "execution_count": null,
      "id": "86525396",
      "metadata": {
        "id": "86525396"
      },
      "outputs": [],
      "source": [
        "# # binary = np.asarray(binary, dtype=\"uint8\")\n",
        "\n",
        "# # image = cv.imread('./imag.jpg')\n",
        "\n",
        "# dst = cv.Canny(entropy_img, 50, 200, None, 3)\n",
        "\n",
        "# cdst = cv.cvtColor(dst, cv.COLOR_GRAY2BGR)\n",
        "# cdstP = np.copy(cdst)\n",
        "\n",
        "# lines = cv.HoughLines(dst, 1, np.pi / 180, 0, None, 0, 0)\n",
        "\n",
        "# slopes = []\n",
        "\n",
        "# if lines is not None:\n",
        "#         for i in range(0, len(lines)):\n",
        "#             rho = lines[i][0][0]\n",
        "#             theta = lines[i][0][1]\n",
        "#             a = math.cos(theta)\n",
        "#             b = math.sin(theta)\n",
        "#             x0 = a * rho\n",
        "#             y0 = b * rho\n",
        "#             pt1 = (int(x0 + 1000*(-b)), int(y0 + 1000*(a)))\n",
        "#             pt2 = (int(x0 - 1000*(-b)), int(y0 - 1000*(a)))\n",
        "#             cv.line(cdst, pt1, pt2, (0,0,255), 3, cv.LINE_AA)\n",
        "\n",
        "#             if pt1[0] != pt2[0]:\n",
        "#                 slope = abs((pt2[1] - pt1[1])/(pt2[0] - pt1[0]))\n",
        "#                 slopes.append(slope)\n",
        "#             else:\n",
        "#                 slopes.append(\"infinity\")\n",
        "\n",
        "\n",
        "# linesP = cv.HoughLinesP(dst, 1, np.pi / 180, None, None, 50, 10)\n",
        "\n",
        "# if linesP is not None:\n",
        "#         for i in range(0, len(linesP)):\n",
        "#             l = linesP[i][0]\n",
        "#             cv.line(cdstP, (l[0], l[1]), (l[2], l[3]), (0,0,255), 3, cv.LINE_AA)\n",
        "\n",
        "# ch2pil(cdstP)\n",
        "# plt.imshow(cdstP)\n",
        "# print(slopes)"
      ]
    },
    {
      "cell_type": "code",
      "execution_count": null,
      "id": "15044065",
      "metadata": {
        "scrolled": true,
        "id": "15044065"
      },
      "outputs": [],
      "source": [
        "# image = entropy_img\n",
        "# #edge_image = cv.cvtColor(image, cv.COLOR_BGR2GRAY)\n",
        "# edge_image = cv.GaussianBlur(image, (3, 3), 1)\n",
        "# edge_image = cv.Canny(edge_image, 100, 200)\n",
        "# edge_image = cv.dilate(\n",
        "#         edge_image,\n",
        "#         cv.getStructuringElement(cv.MORPH_RECT, (5, 5)),\n",
        "#         iterations=1\n",
        "#     )\n",
        "# edge_image = cv.erode(\n",
        "#         edge_image,\n",
        "#         cv.getStructuringElement(cv.MORPH_RECT, (5, 5)),\n",
        "#         iterations=1\n",
        "#     )\n",
        "\n",
        "# plt.imshow(edge_image)\n",
        "# ch2pil(edge_image)\n",
        "# # Convert the img to grayscale\n",
        "# #gray = cv2.cvtColor(img, cv2.COLOR_BGR2GRAY)\n",
        "\n",
        "# # Apply edge detection method on the image\n",
        "# edges = cv.Canny(edge_image, 50, 150, apertureSize=3)\n",
        "\n",
        "# # This returns an array of r and theta values\n",
        "# lines = cv.HoughLines(edges, 1, np.pi/180, 200)\n",
        "\n",
        "# slopes = []\n",
        "\n",
        "# # The below for loop runs till r and theta values\n",
        "# # are in the range of the 2d array\n",
        "# for r_theta in lines:\n",
        "#     arr = np.array(r_theta[0], dtype=np.float64)\n",
        "#     r, theta = arr\n",
        "#     # Stores the value of cos(theta) in a\n",
        "#     a = np.cos(theta)\n",
        "\n",
        "#     # Stores the value of sin(theta) in b\n",
        "#     b = np.sin(theta)\n",
        "\n",
        "#     # x0 stores the value rcos(theta)\n",
        "#     x0 = a*r\n",
        "\n",
        "#     # y0 stores the value rsin(theta)\n",
        "#     y0 = b*r\n",
        "\n",
        "#     # x1 stores the rounded off value of (rcos(theta)-1000sin(theta))\n",
        "#     x1 = int(x0 + 1000*(-b))\n",
        "\n",
        "#     # y1 stores the rounded off value of (rsin(theta)+1000cos(theta))\n",
        "#     y1 = int(y0 + 1000*(a))\n",
        "\n",
        "#     # x2 stores the rounded off value of (rcos(theta)+1000sin(theta))\n",
        "#     x2 = int(x0 - 1000*(-b))\n",
        "\n",
        "#     # y2 stores the rounded off value of (rsin(theta)-1000cos(theta))\n",
        "#     y2 = int(y0 - 1000*(a))\n",
        "\n",
        "#     if x1 != x2:\n",
        "#         slope = abs((y2 - y1)/(x2 - x1))\n",
        "#         slopes.append(slope)\n",
        "#     else:\n",
        "#         slopes.append(\"infinity\")\n",
        "\n",
        "#     # cv2.line draws a line in img from the point(x1,y1) to (x2,y2).\n",
        "#     # (0,0,255) denotes the colour of the line to be\n",
        "#     # drawn. In this case, it is red.\n",
        "#     cv.line(edge_image, (x1, y1), (x2, y2), (255, 0, 0), 2)\n",
        "\n",
        "# # All the changes made in the input image are finally\n",
        "# # written on a new image houghlines.jpg\n",
        "# ch2pil(edge_image)\n",
        "# plt.imshow(edge_image)\n",
        "# print(slopes)"
      ]
    },
    {
      "cell_type": "code",
      "execution_count": null,
      "id": "66438615",
      "metadata": {
        "id": "66438615"
      },
      "outputs": [],
      "source": []
    }
  ],
  "metadata": {
    "kernelspec": {
      "display_name": "Python 3",
      "language": "python",
      "name": "python3"
    },
    "language_info": {
      "codemirror_mode": {
        "name": "ipython",
        "version": 3
      },
      "file_extension": ".py",
      "mimetype": "text/x-python",
      "name": "python",
      "nbconvert_exporter": "python",
      "pygments_lexer": "ipython3",
      "version": "3.8.8"
    },
    "colab": {
      "provenance": []
    }
  },
  "nbformat": 4,
  "nbformat_minor": 5
}